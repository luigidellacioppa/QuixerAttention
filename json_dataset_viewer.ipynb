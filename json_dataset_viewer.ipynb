{
 "cells": [
  {
   "cell_type": "code",
   "id": "initial_id",
   "metadata": {
    "collapsed": true,
    "ExecuteTime": {
     "end_time": "2024-12-14T19:25:00.450813Z",
     "start_time": "2024-12-14T19:25:00.402154Z"
    }
   },
   "source": [
    "import pandas as pd\n",
    "import pyarrow as pa\n",
    "import json\n",
    "import datasets\n",
    "\n",
    "from pyarrow.dataset import dataset"
   ],
   "outputs": [],
   "execution_count": 4
  },
  {
   "metadata": {
    "ExecuteTime": {
     "end_time": "2024-12-14T19:25:10.536752Z",
     "start_time": "2024-12-14T19:25:10.525602Z"
    }
   },
   "cell_type": "code",
   "source": [
    "from datasets import list_datasets\n",
    "from datasets import load_dataset\n",
    "\n",
    "# List all available datasets\n",
    "all_datasets = list_datasets()\n",
    "\n",
    "# Filter datasets that contain \"ptb\" or \"text\" in their name or description\n",
    "similar_datasets = [dataset for dataset in all_datasets if 'ptb' in dataset or 'text' in dataset]\n",
    "\n",
    "# Print the similar datasets\n",
    "print(similar_datasets)"
   ],
   "id": "58d753d60632dcff",
   "outputs": [
    {
     "ename": "ImportError",
     "evalue": "cannot import name 'list_datasets' from 'datasets' (/opt/anaconda3/envs/Quixer/lib/python3.11/site-packages/datasets/__init__.py)",
     "output_type": "error",
     "traceback": [
      "\u001B[0;31m---------------------------------------------------------------------------\u001B[0m",
      "\u001B[0;31mImportError\u001B[0m                               Traceback (most recent call last)",
      "Cell \u001B[0;32mIn[5], line 1\u001B[0m\n\u001B[0;32m----> 1\u001B[0m \u001B[38;5;28;01mfrom\u001B[39;00m \u001B[38;5;21;01mdatasets\u001B[39;00m \u001B[38;5;28;01mimport\u001B[39;00m list_datasets\n\u001B[1;32m      2\u001B[0m \u001B[38;5;28;01mfrom\u001B[39;00m \u001B[38;5;21;01mdatasets\u001B[39;00m \u001B[38;5;28;01mimport\u001B[39;00m load_dataset\n\u001B[1;32m      4\u001B[0m \u001B[38;5;66;03m# List all available datasets\u001B[39;00m\n",
      "\u001B[0;31mImportError\u001B[0m: cannot import name 'list_datasets' from 'datasets' (/opt/anaconda3/envs/Quixer/lib/python3.11/site-packages/datasets/__init__.py)"
     ]
    }
   ],
   "execution_count": 5
  },
  {
   "metadata": {
    "ExecuteTime": {
     "end_time": "2024-12-07T08:47:37.450148Z",
     "start_time": "2024-12-07T08:47:37.447956Z"
    }
   },
   "cell_type": "code",
   "source": [
    "# Load the dataset\n",
    "with open('ptb_text_only/train/dataset_info.json') as f:\n",
    "    data = json.load(f)"
   ],
   "id": "59c6a699c9277827",
   "outputs": [],
   "execution_count": 14
  },
  {
   "metadata": {
    "ExecuteTime": {
     "end_time": "2024-12-14T11:25:37.522241Z",
     "start_time": "2024-12-14T11:25:37.378066Z"
    }
   },
   "cell_type": "code",
   "source": "print(data)",
   "id": "e2f0d639e468ac15",
   "outputs": [
    {
     "ename": "NameError",
     "evalue": "name 'data' is not defined",
     "output_type": "error",
     "traceback": [
      "\u001B[0;31m---------------------------------------------------------------------------\u001B[0m",
      "\u001B[0;31mNameError\u001B[0m                                 Traceback (most recent call last)",
      "Cell \u001B[0;32mIn[1], line 1\u001B[0m\n\u001B[0;32m----> 1\u001B[0m \u001B[38;5;28mprint\u001B[39m(data)\n",
      "\u001B[0;31mNameError\u001B[0m: name 'data' is not defined"
     ]
    }
   ],
   "execution_count": 1
  },
  {
   "metadata": {
    "ExecuteTime": {
     "end_time": "2024-12-07T08:47:46.084966Z",
     "start_time": "2024-12-07T08:47:45.732654Z"
    }
   },
   "cell_type": "code",
   "source": [
    "# Convert the dataset to a DataFrame\n",
    "df = pd.DataFrame(data['splits']['train'])\n",
    "\n",
    "# Display the DataFrame\n",
    "print(df.head())"
   ],
   "id": "2db36e27758a5698",
   "outputs": [
    {
     "ename": "ValueError",
     "evalue": "If using all scalar values, you must pass an index",
     "output_type": "error",
     "traceback": [
      "\u001B[0;31m---------------------------------------------------------------------------\u001B[0m",
      "\u001B[0;31mValueError\u001B[0m                                Traceback (most recent call last)",
      "Cell \u001B[0;32mIn[15], line 2\u001B[0m\n\u001B[1;32m      1\u001B[0m \u001B[38;5;66;03m# Convert the dataset to a DataFrame\u001B[39;00m\n\u001B[0;32m----> 2\u001B[0m df \u001B[38;5;241m=\u001B[39m pd\u001B[38;5;241m.\u001B[39mDataFrame(data[\u001B[38;5;124m'\u001B[39m\u001B[38;5;124msplits\u001B[39m\u001B[38;5;124m'\u001B[39m][\u001B[38;5;124m'\u001B[39m\u001B[38;5;124mtrain\u001B[39m\u001B[38;5;124m'\u001B[39m])\n\u001B[1;32m      4\u001B[0m \u001B[38;5;66;03m# Display the DataFrame\u001B[39;00m\n\u001B[1;32m      5\u001B[0m \u001B[38;5;28mprint\u001B[39m(df\u001B[38;5;241m.\u001B[39mhead())\n",
      "File \u001B[0;32m/opt/anaconda3/envs/Quixer/lib/python3.11/site-packages/pandas/core/frame.py:778\u001B[0m, in \u001B[0;36mDataFrame.__init__\u001B[0;34m(self, data, index, columns, dtype, copy)\u001B[0m\n\u001B[1;32m    772\u001B[0m     mgr \u001B[38;5;241m=\u001B[39m \u001B[38;5;28mself\u001B[39m\u001B[38;5;241m.\u001B[39m_init_mgr(\n\u001B[1;32m    773\u001B[0m         data, axes\u001B[38;5;241m=\u001B[39m{\u001B[38;5;124m\"\u001B[39m\u001B[38;5;124mindex\u001B[39m\u001B[38;5;124m\"\u001B[39m: index, \u001B[38;5;124m\"\u001B[39m\u001B[38;5;124mcolumns\u001B[39m\u001B[38;5;124m\"\u001B[39m: columns}, dtype\u001B[38;5;241m=\u001B[39mdtype, copy\u001B[38;5;241m=\u001B[39mcopy\n\u001B[1;32m    774\u001B[0m     )\n\u001B[1;32m    776\u001B[0m \u001B[38;5;28;01melif\u001B[39;00m \u001B[38;5;28misinstance\u001B[39m(data, \u001B[38;5;28mdict\u001B[39m):\n\u001B[1;32m    777\u001B[0m     \u001B[38;5;66;03m# GH#38939 de facto copy defaults to False only in non-dict cases\u001B[39;00m\n\u001B[0;32m--> 778\u001B[0m     mgr \u001B[38;5;241m=\u001B[39m dict_to_mgr(data, index, columns, dtype\u001B[38;5;241m=\u001B[39mdtype, copy\u001B[38;5;241m=\u001B[39mcopy, typ\u001B[38;5;241m=\u001B[39mmanager)\n\u001B[1;32m    779\u001B[0m \u001B[38;5;28;01melif\u001B[39;00m \u001B[38;5;28misinstance\u001B[39m(data, ma\u001B[38;5;241m.\u001B[39mMaskedArray):\n\u001B[1;32m    780\u001B[0m     \u001B[38;5;28;01mfrom\u001B[39;00m \u001B[38;5;21;01mnumpy\u001B[39;00m\u001B[38;5;21;01m.\u001B[39;00m\u001B[38;5;21;01mma\u001B[39;00m \u001B[38;5;28;01mimport\u001B[39;00m mrecords\n",
      "File \u001B[0;32m/opt/anaconda3/envs/Quixer/lib/python3.11/site-packages/pandas/core/internals/construction.py:503\u001B[0m, in \u001B[0;36mdict_to_mgr\u001B[0;34m(data, index, columns, dtype, typ, copy)\u001B[0m\n\u001B[1;32m    499\u001B[0m     \u001B[38;5;28;01melse\u001B[39;00m:\n\u001B[1;32m    500\u001B[0m         \u001B[38;5;66;03m# dtype check to exclude e.g. range objects, scalars\u001B[39;00m\n\u001B[1;32m    501\u001B[0m         arrays \u001B[38;5;241m=\u001B[39m [x\u001B[38;5;241m.\u001B[39mcopy() \u001B[38;5;28;01mif\u001B[39;00m \u001B[38;5;28mhasattr\u001B[39m(x, \u001B[38;5;124m\"\u001B[39m\u001B[38;5;124mdtype\u001B[39m\u001B[38;5;124m\"\u001B[39m) \u001B[38;5;28;01melse\u001B[39;00m x \u001B[38;5;28;01mfor\u001B[39;00m x \u001B[38;5;129;01min\u001B[39;00m arrays]\n\u001B[0;32m--> 503\u001B[0m \u001B[38;5;28;01mreturn\u001B[39;00m arrays_to_mgr(arrays, columns, index, dtype\u001B[38;5;241m=\u001B[39mdtype, typ\u001B[38;5;241m=\u001B[39mtyp, consolidate\u001B[38;5;241m=\u001B[39mcopy)\n",
      "File \u001B[0;32m/opt/anaconda3/envs/Quixer/lib/python3.11/site-packages/pandas/core/internals/construction.py:114\u001B[0m, in \u001B[0;36marrays_to_mgr\u001B[0;34m(arrays, columns, index, dtype, verify_integrity, typ, consolidate)\u001B[0m\n\u001B[1;32m    111\u001B[0m \u001B[38;5;28;01mif\u001B[39;00m verify_integrity:\n\u001B[1;32m    112\u001B[0m     \u001B[38;5;66;03m# figure out the index, if necessary\u001B[39;00m\n\u001B[1;32m    113\u001B[0m     \u001B[38;5;28;01mif\u001B[39;00m index \u001B[38;5;129;01mis\u001B[39;00m \u001B[38;5;28;01mNone\u001B[39;00m:\n\u001B[0;32m--> 114\u001B[0m         index \u001B[38;5;241m=\u001B[39m _extract_index(arrays)\n\u001B[1;32m    115\u001B[0m     \u001B[38;5;28;01melse\u001B[39;00m:\n\u001B[1;32m    116\u001B[0m         index \u001B[38;5;241m=\u001B[39m ensure_index(index)\n",
      "File \u001B[0;32m/opt/anaconda3/envs/Quixer/lib/python3.11/site-packages/pandas/core/internals/construction.py:667\u001B[0m, in \u001B[0;36m_extract_index\u001B[0;34m(data)\u001B[0m\n\u001B[1;32m    664\u001B[0m         \u001B[38;5;28;01mraise\u001B[39;00m \u001B[38;5;167;01mValueError\u001B[39;00m(\u001B[38;5;124m\"\u001B[39m\u001B[38;5;124mPer-column arrays must each be 1-dimensional\u001B[39m\u001B[38;5;124m\"\u001B[39m)\n\u001B[1;32m    666\u001B[0m \u001B[38;5;28;01mif\u001B[39;00m \u001B[38;5;129;01mnot\u001B[39;00m indexes \u001B[38;5;129;01mand\u001B[39;00m \u001B[38;5;129;01mnot\u001B[39;00m raw_lengths:\n\u001B[0;32m--> 667\u001B[0m     \u001B[38;5;28;01mraise\u001B[39;00m \u001B[38;5;167;01mValueError\u001B[39;00m(\u001B[38;5;124m\"\u001B[39m\u001B[38;5;124mIf using all scalar values, you must pass an index\u001B[39m\u001B[38;5;124m\"\u001B[39m)\n\u001B[1;32m    669\u001B[0m \u001B[38;5;28;01mif\u001B[39;00m have_series:\n\u001B[1;32m    670\u001B[0m     index \u001B[38;5;241m=\u001B[39m union_indexes(indexes)\n",
      "\u001B[0;31mValueError\u001B[0m: If using all scalar values, you must pass an index"
     ]
    }
   ],
   "execution_count": 15
  },
  {
   "metadata": {
    "ExecuteTime": {
     "end_time": "2024-12-07T08:44:52.216333Z",
     "start_time": "2024-12-07T08:44:52.199706Z"
    }
   },
   "cell_type": "code",
   "source": [
    "# read the arrow file\n",
    "table = pa.ipc.open_file('ptb_text_only/train/data-00000-of-00001.arrow').read_all()"
   ],
   "id": "42c231f34d0b68ea",
   "outputs": [
    {
     "ename": "ArrowInvalid",
     "evalue": "Not an Arrow file",
     "output_type": "error",
     "traceback": [
      "\u001B[0;31m---------------------------------------------------------------------------\u001B[0m",
      "\u001B[0;31mArrowInvalid\u001B[0m                              Traceback (most recent call last)",
      "Cell \u001B[0;32mIn[11], line 2\u001B[0m\n\u001B[1;32m      1\u001B[0m \u001B[38;5;66;03m# read the arrow file\u001B[39;00m\n\u001B[0;32m----> 2\u001B[0m table \u001B[38;5;241m=\u001B[39m pa\u001B[38;5;241m.\u001B[39mipc\u001B[38;5;241m.\u001B[39mopen_file(\u001B[38;5;124m'\u001B[39m\u001B[38;5;124mptb_text_only/train/data-00000-of-00001.arrow\u001B[39m\u001B[38;5;124m'\u001B[39m)\u001B[38;5;241m.\u001B[39mread_all()\n",
      "File \u001B[0;32m/opt/anaconda3/envs/Quixer/lib/python3.11/site-packages/pyarrow/ipc.py:234\u001B[0m, in \u001B[0;36mopen_file\u001B[0;34m(source, footer_offset, options, memory_pool)\u001B[0m\n\u001B[1;32m    212\u001B[0m \u001B[38;5;28;01mdef\u001B[39;00m \u001B[38;5;21mopen_file\u001B[39m(source, footer_offset\u001B[38;5;241m=\u001B[39m\u001B[38;5;28;01mNone\u001B[39;00m, \u001B[38;5;241m*\u001B[39m, options\u001B[38;5;241m=\u001B[39m\u001B[38;5;28;01mNone\u001B[39;00m, memory_pool\u001B[38;5;241m=\u001B[39m\u001B[38;5;28;01mNone\u001B[39;00m):\n\u001B[1;32m    213\u001B[0m \u001B[38;5;250m    \u001B[39m\u001B[38;5;124;03m\"\"\"\u001B[39;00m\n\u001B[1;32m    214\u001B[0m \u001B[38;5;124;03m    Create reader for Arrow file format.\u001B[39;00m\n\u001B[1;32m    215\u001B[0m \n\u001B[0;32m   (...)\u001B[0m\n\u001B[1;32m    232\u001B[0m \u001B[38;5;124;03m        A reader for the given source\u001B[39;00m\n\u001B[1;32m    233\u001B[0m \u001B[38;5;124;03m    \"\"\"\u001B[39;00m\n\u001B[0;32m--> 234\u001B[0m     \u001B[38;5;28;01mreturn\u001B[39;00m RecordBatchFileReader(\n\u001B[1;32m    235\u001B[0m         source, footer_offset\u001B[38;5;241m=\u001B[39mfooter_offset,\n\u001B[1;32m    236\u001B[0m         options\u001B[38;5;241m=\u001B[39moptions, memory_pool\u001B[38;5;241m=\u001B[39mmemory_pool)\n",
      "File \u001B[0;32m/opt/anaconda3/envs/Quixer/lib/python3.11/site-packages/pyarrow/ipc.py:110\u001B[0m, in \u001B[0;36mRecordBatchFileReader.__init__\u001B[0;34m(self, source, footer_offset, options, memory_pool)\u001B[0m\n\u001B[1;32m    107\u001B[0m \u001B[38;5;28;01mdef\u001B[39;00m \u001B[38;5;21m__init__\u001B[39m(\u001B[38;5;28mself\u001B[39m, source, footer_offset\u001B[38;5;241m=\u001B[39m\u001B[38;5;28;01mNone\u001B[39;00m, \u001B[38;5;241m*\u001B[39m, options\u001B[38;5;241m=\u001B[39m\u001B[38;5;28;01mNone\u001B[39;00m,\n\u001B[1;32m    108\u001B[0m              memory_pool\u001B[38;5;241m=\u001B[39m\u001B[38;5;28;01mNone\u001B[39;00m):\n\u001B[1;32m    109\u001B[0m     options \u001B[38;5;241m=\u001B[39m _ensure_default_ipc_read_options(options)\n\u001B[0;32m--> 110\u001B[0m     \u001B[38;5;28mself\u001B[39m\u001B[38;5;241m.\u001B[39m_open(source, footer_offset\u001B[38;5;241m=\u001B[39mfooter_offset,\n\u001B[1;32m    111\u001B[0m                options\u001B[38;5;241m=\u001B[39moptions, memory_pool\u001B[38;5;241m=\u001B[39mmemory_pool)\n",
      "File \u001B[0;32m/opt/anaconda3/envs/Quixer/lib/python3.11/site-packages/pyarrow/ipc.pxi:1090\u001B[0m, in \u001B[0;36mpyarrow.lib._RecordBatchFileReader._open\u001B[0;34m()\u001B[0m\n",
      "File \u001B[0;32m/opt/anaconda3/envs/Quixer/lib/python3.11/site-packages/pyarrow/error.pxi:155\u001B[0m, in \u001B[0;36mpyarrow.lib.pyarrow_internal_check_status\u001B[0;34m()\u001B[0m\n",
      "File \u001B[0;32m/opt/anaconda3/envs/Quixer/lib/python3.11/site-packages/pyarrow/error.pxi:92\u001B[0m, in \u001B[0;36mpyarrow.lib.check_status\u001B[0;34m()\u001B[0m\n",
      "\u001B[0;31mArrowInvalid\u001B[0m: Not an Arrow file"
     ]
    }
   ],
   "execution_count": 11
  },
  {
   "metadata": {
    "ExecuteTime": {
     "end_time": "2024-12-07T08:42:27.088519Z",
     "start_time": "2024-12-07T08:42:27.085561Z"
    }
   },
   "cell_type": "code",
   "source": "",
   "id": "59e9de394c1ec5e6",
   "outputs": [
    {
     "data": {
      "text/plain": [
       "<pyarrow.MemoryMappedFile closed=False own_file=False is_seekable=True is_writable=False is_readable=True>"
      ]
     },
     "execution_count": 8,
     "metadata": {},
     "output_type": "execute_result"
    }
   ],
   "execution_count": 8
  },
  {
   "metadata": {
    "ExecuteTime": {
     "end_time": "2024-12-07T08:42:38.575577Z",
     "start_time": "2024-12-07T08:42:38.393494Z"
    }
   },
   "cell_type": "code",
   "source": "",
   "id": "ad7399a3870ad148",
   "outputs": [
    {
     "ename": "ArrowInvalid",
     "evalue": "Not an Arrow file",
     "output_type": "error",
     "traceback": [
      "\u001B[0;31m---------------------------------------------------------------------------\u001B[0m",
      "\u001B[0;31mArrowInvalid\u001B[0m                              Traceback (most recent call last)",
      "Cell \u001B[0;32mIn[9], line 2\u001B[0m\n\u001B[1;32m      1\u001B[0m \u001B[38;5;28;01mwith\u001B[39;00m mmap \u001B[38;5;28;01mas\u001B[39;00m source:\n\u001B[0;32m----> 2\u001B[0m     array \u001B[38;5;241m=\u001B[39m pa\u001B[38;5;241m.\u001B[39mipc\u001B[38;5;241m.\u001B[39mopen_file(source)\u001B[38;5;241m.\u001B[39mread_all()\n",
      "File \u001B[0;32m/opt/anaconda3/envs/Quixer/lib/python3.11/site-packages/pyarrow/ipc.py:234\u001B[0m, in \u001B[0;36mopen_file\u001B[0;34m(source, footer_offset, options, memory_pool)\u001B[0m\n\u001B[1;32m    212\u001B[0m \u001B[38;5;28;01mdef\u001B[39;00m \u001B[38;5;21mopen_file\u001B[39m(source, footer_offset\u001B[38;5;241m=\u001B[39m\u001B[38;5;28;01mNone\u001B[39;00m, \u001B[38;5;241m*\u001B[39m, options\u001B[38;5;241m=\u001B[39m\u001B[38;5;28;01mNone\u001B[39;00m, memory_pool\u001B[38;5;241m=\u001B[39m\u001B[38;5;28;01mNone\u001B[39;00m):\n\u001B[1;32m    213\u001B[0m \u001B[38;5;250m    \u001B[39m\u001B[38;5;124;03m\"\"\"\u001B[39;00m\n\u001B[1;32m    214\u001B[0m \u001B[38;5;124;03m    Create reader for Arrow file format.\u001B[39;00m\n\u001B[1;32m    215\u001B[0m \n\u001B[0;32m   (...)\u001B[0m\n\u001B[1;32m    232\u001B[0m \u001B[38;5;124;03m        A reader for the given source\u001B[39;00m\n\u001B[1;32m    233\u001B[0m \u001B[38;5;124;03m    \"\"\"\u001B[39;00m\n\u001B[0;32m--> 234\u001B[0m     \u001B[38;5;28;01mreturn\u001B[39;00m RecordBatchFileReader(\n\u001B[1;32m    235\u001B[0m         source, footer_offset\u001B[38;5;241m=\u001B[39mfooter_offset,\n\u001B[1;32m    236\u001B[0m         options\u001B[38;5;241m=\u001B[39moptions, memory_pool\u001B[38;5;241m=\u001B[39mmemory_pool)\n",
      "File \u001B[0;32m/opt/anaconda3/envs/Quixer/lib/python3.11/site-packages/pyarrow/ipc.py:110\u001B[0m, in \u001B[0;36mRecordBatchFileReader.__init__\u001B[0;34m(self, source, footer_offset, options, memory_pool)\u001B[0m\n\u001B[1;32m    107\u001B[0m \u001B[38;5;28;01mdef\u001B[39;00m \u001B[38;5;21m__init__\u001B[39m(\u001B[38;5;28mself\u001B[39m, source, footer_offset\u001B[38;5;241m=\u001B[39m\u001B[38;5;28;01mNone\u001B[39;00m, \u001B[38;5;241m*\u001B[39m, options\u001B[38;5;241m=\u001B[39m\u001B[38;5;28;01mNone\u001B[39;00m,\n\u001B[1;32m    108\u001B[0m              memory_pool\u001B[38;5;241m=\u001B[39m\u001B[38;5;28;01mNone\u001B[39;00m):\n\u001B[1;32m    109\u001B[0m     options \u001B[38;5;241m=\u001B[39m _ensure_default_ipc_read_options(options)\n\u001B[0;32m--> 110\u001B[0m     \u001B[38;5;28mself\u001B[39m\u001B[38;5;241m.\u001B[39m_open(source, footer_offset\u001B[38;5;241m=\u001B[39mfooter_offset,\n\u001B[1;32m    111\u001B[0m                options\u001B[38;5;241m=\u001B[39moptions, memory_pool\u001B[38;5;241m=\u001B[39mmemory_pool)\n",
      "File \u001B[0;32m/opt/anaconda3/envs/Quixer/lib/python3.11/site-packages/pyarrow/ipc.pxi:1090\u001B[0m, in \u001B[0;36mpyarrow.lib._RecordBatchFileReader._open\u001B[0;34m()\u001B[0m\n",
      "File \u001B[0;32m/opt/anaconda3/envs/Quixer/lib/python3.11/site-packages/pyarrow/error.pxi:155\u001B[0m, in \u001B[0;36mpyarrow.lib.pyarrow_internal_check_status\u001B[0;34m()\u001B[0m\n",
      "File \u001B[0;32m/opt/anaconda3/envs/Quixer/lib/python3.11/site-packages/pyarrow/error.pxi:92\u001B[0m, in \u001B[0;36mpyarrow.lib.check_status\u001B[0;34m()\u001B[0m\n",
      "\u001B[0;31mArrowInvalid\u001B[0m: Not an Arrow file"
     ]
    }
   ],
   "execution_count": 9
  },
  {
   "metadata": {},
   "cell_type": "code",
   "outputs": [],
   "execution_count": null,
   "source": "",
   "id": "8960bd64ea657142"
  }
 ],
 "metadata": {
  "kernelspec": {
   "display_name": "Python 3",
   "language": "python",
   "name": "python3"
  },
  "language_info": {
   "codemirror_mode": {
    "name": "ipython",
    "version": 2
   },
   "file_extension": ".py",
   "mimetype": "text/x-python",
   "name": "python",
   "nbconvert_exporter": "python",
   "pygments_lexer": "ipython2",
   "version": "2.7.6"
  }
 },
 "nbformat": 4,
 "nbformat_minor": 5
}
